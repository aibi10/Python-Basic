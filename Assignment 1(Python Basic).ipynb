{
 "cells": [
  {
   "cell_type": "markdown",
   "metadata": {},
   "source": [
    " 1. In the below elements which of them are values or an expression? eg:- values can be\n",
    "integer or string and expressions will be mathematical operators."
   ]
  },
  {
   "cell_type": "raw",
   "metadata": {},
   "source": [
    "* : Expression\n",
    "\n",
    "'hello' : String\n",
    "\n",
    "-87.8 : Integer\n",
    "\n",
    "- : Expression\n",
    "    \n",
    "/ : Expression\n",
    "    \n",
    "+ : Expression\n",
    "\n",
    "6 : Integer"
   ]
  },
  {
   "cell_type": "markdown",
   "metadata": {},
   "source": [
    "2. What is the difference between string and variable?"
   ]
  },
  {
   "cell_type": "raw",
   "metadata": {},
   "source": [
    "string is a data type. Anything that is enclosed between single quotes or double quotes is a string.\n",
    "e.g: 'iNeuron', \"Krish Naik\", 'Sudhanshu Kumar'\n",
    "\n",
    "A variable is a name that is used to hold values of any type.\n",
    "e.g: data = 'big data'\n",
    "     value = 10\n",
    "     In the above example, data and value are variables, they hold string and integer data respectively.\n",
    "    "
   ]
  },
  {
   "cell_type": "markdown",
   "metadata": {},
   "source": [
    "3. Describe three different data types."
   ]
  },
  {
   "cell_type": "raw",
   "metadata": {},
   "source": [
    "Three diffrenet data types are:\n",
    "    1) int : it is used to store integer values.\n",
    "        e.g: 10, 24, 1234, etc.\n",
    "    2) float : it is used to store floating point values or in other words real numbers.\n",
    "        e.g : 7.6, 10.343, 9.0, etc\n",
    "    3) str: it is used to store text data. Text data is either enclosed in single quotes or double quotes.\n",
    "        e.g: 'Abhishek', 'abc10', '1234', etc"
   ]
  },
  {
   "cell_type": "markdown",
   "metadata": {},
   "source": [
    "4. What is an expression made up of? What do all expressions do?"
   ]
  },
  {
   "cell_type": "raw",
   "metadata": {},
   "source": [
    "An expression is a combination of values, variables and operattors.\n",
    "e.g : 10 * 'abc'\n",
    "      In the above example 10 and 'abc' are values, * and = are  operators.\n",
    "        \n",
    "All expressions are evaluated by interpreter to give a value."
   ]
  },
  {
   "cell_type": "markdown",
   "metadata": {},
   "source": [
    "5. This assignment statements, like spam = 10. What is the difference between an\n",
    "expression and a statement?"
   ]
  },
  {
   "cell_type": "raw",
   "metadata": {},
   "source": [
    "An expession evaluates to value.\n",
    "e.g : 5 * 5\n",
    "      x + 8\n",
    "\n",
    "A statement is a command or action that does something.\n",
    "e.g : print(\"iNeuron\")\n",
    "      y = 5"
   ]
  },
  {
   "cell_type": "markdown",
   "metadata": {},
   "source": [
    "6. After running the following code, what does the variable bacon contain?\n",
    "bacon = 22\n",
    "bacon + 1"
   ]
  },
  {
   "cell_type": "raw",
   "metadata": {},
   "source": [
    "bacon contains the value 22."
   ]
  },
  {
   "cell_type": "markdown",
   "metadata": {},
   "source": [
    "7. What should the values of the following two terms be?\n",
    "\n",
    "   'spam' + 'spamspam'\n",
    " \n",
    "    spam * 3"
   ]
  },
  {
   "cell_type": "raw",
   "metadata": {},
   "source": [
    "Both expression will result the same value.\n",
    "'spamspamspam'"
   ]
  },
  {
   "cell_type": "raw",
   "metadata": {},
   "source": [
    "8. Why is eggs a valid variable name while 100 is invalid?"
   ]
  },
  {
   "cell_type": "raw",
   "metadata": {},
   "source": [
    "This is because 100 starts with a number. A variable should only start with a letter or an underscore."
   ]
  },
  {
   "cell_type": "markdown",
   "metadata": {},
   "source": [
    "9. What three functions can be used to get the integer, floating-point number, or string\n",
    "version of a value?"
   ]
  },
  {
   "cell_type": "raw",
   "metadata": {},
   "source": [
    "For integer: int()\n",
    "For float : float()\n",
    "For string : str()"
   ]
  },
  {
   "cell_type": "markdown",
   "metadata": {},
   "source": [
    "10. Why does this expression cause an error? How can you fix it?\n",
    "    'I have eaten' + 99 + 'burritos'"
   ]
  },
  {
   "cell_type": "raw",
   "metadata": {},
   "source": [
    "This is because we are trying to concatenate string with integer. A string can only be concatenated with string."
   ]
  }
 ],
 "metadata": {
  "kernelspec": {
   "display_name": "Python 3",
   "language": "python",
   "name": "python3"
  },
  "language_info": {
   "codemirror_mode": {
    "name": "ipython",
    "version": 3
   },
   "file_extension": ".py",
   "mimetype": "text/x-python",
   "name": "python",
   "nbconvert_exporter": "python",
   "pygments_lexer": "ipython3",
   "version": "3.8.3"
  }
 },
 "nbformat": 4,
 "nbformat_minor": 4
}
