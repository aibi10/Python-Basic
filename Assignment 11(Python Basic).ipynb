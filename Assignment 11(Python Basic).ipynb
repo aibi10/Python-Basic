{
 "cells": [
  {
   "cell_type": "markdown",
   "metadata": {},
   "source": [
    "1. Create an assert statement that throws an AssertionError if the variable spam is a negative\n",
    "integer."
   ]
  },
  {
   "cell_type": "raw",
   "metadata": {},
   "source": [
    "spam = int(input())\n",
    "assert spam > 0, \"negative integer\"\n",
    "print(spam)"
   ]
  },
  {
   "cell_type": "markdown",
   "metadata": {},
   "source": [
    "2. Write an assert statement that triggers an AssertionError if the variables eggs and bacon contain\n",
    "strings that are the same as each other, even if their cases are different (that is, 'hello' and 'hello' are\n",
    "considered the same, and 'goodbye'; and 'GOODbye' are also considered the same)."
   ]
  },
  {
   "cell_type": "raw",
   "metadata": {},
   "source": [
    "eggs = input()\n",
    "bacon = input()\n",
    "assert eggs.lower() != bacon.lower(), \"same string\"\n",
    "print(\"different string\")"
   ]
  },
  {
   "cell_type": "markdown",
   "metadata": {},
   "source": [
    "3. Create an assert statement that throws an AssertionError every time."
   ]
  },
  {
   "cell_type": "raw",
   "metadata": {},
   "source": [
    "assert False, \"assertion error\"\n",
    "print(\"no error\")"
   ]
  },
  {
   "cell_type": "markdown",
   "metadata": {},
   "source": [
    "4. What are the two lines that must be present in your software in order to call logging.debug()?"
   ]
  },
  {
   "cell_type": "raw",
   "metadata": {},
   "source": [
    "import logging\n",
    "logging.debug(\"this will get logged\")"
   ]
  },
  {
   "cell_type": "markdown",
   "metadata": {},
   "source": [
    "5. What are the two lines that your program must have in order to have logging.debug() send a\n",
    "logging message to a file named programLog.txt?"
   ]
  },
  {
   "cell_type": "raw",
   "metadata": {},
   "source": [
    "import logging\n",
    "logging.basicConfig(filename=\"programLog.txt\", filemode='w')\n",
    "logger=logging.getLogger()\n",
    "logger.setLevel(logging.DEBUG)\n",
    "logger.debug(\"Logging Message\")"
   ]
  },
  {
   "cell_type": "markdown",
   "metadata": {},
   "source": [
    "6. What are the five levels of logging?"
   ]
  },
  {
   "cell_type": "raw",
   "metadata": {},
   "source": [
    "DEBUG\n",
    "INFO\n",
    "WARNING\n",
    "ERROR\n",
    "CRITICAL"
   ]
  },
  {
   "cell_type": "markdown",
   "metadata": {},
   "source": [
    "7. What line of code would you add to your software to disable all logging messages?"
   ]
  },
  {
   "cell_type": "raw",
   "metadata": {},
   "source": [
    "logger = logging.getLogger('my-logger')\n",
    "logger.propagate = False"
   ]
  },
  {
   "cell_type": "markdown",
   "metadata": {},
   "source": [
    "8.Why is using logging messages better than using print() to display the same message?"
   ]
  },
  {
   "cell_type": "raw",
   "metadata": {},
   "source": [
    "In brief, the advantages of using logging libraries do outweigh print as below reasons:\n",
    "\n",
    "Control what’s emitted\n",
    "Define what types of information you want to include in your logs\n",
    "Configure how it looks when it’s emitted\n",
    "Most importantly, set the destination for your logs\n"
   ]
  },
  {
   "cell_type": "markdown",
   "metadata": {},
   "source": [
    "9. What are the differences between the Step Over, Step In, and Step Out buttons in the debugger?"
   ]
  },
  {
   "cell_type": "raw",
   "metadata": {},
   "source": [
    "Step in will cause the debugger to descend into any method calls on the current line.\n",
    "Step over proceeds to the next line in your current scope (i.e. it goes to the next line),\n",
    "without descending into any method calls on the way. \n",
    "Step out proceeds until the next \"return\" or equivalent "
   ]
  }
 ],
 "metadata": {
  "kernelspec": {
   "display_name": "Python 3",
   "language": "python",
   "name": "python3"
  },
  "language_info": {
   "codemirror_mode": {
    "name": "ipython",
    "version": 3
   },
   "file_extension": ".py",
   "mimetype": "text/x-python",
   "name": "python",
   "nbconvert_exporter": "python",
   "pygments_lexer": "ipython3",
   "version": "3.8.3"
  }
 },
 "nbformat": 4,
 "nbformat_minor": 4
}
