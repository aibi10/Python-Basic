{
 "cells": [
  {
   "cell_type": "markdown",
   "metadata": {},
   "source": [
    "1. Add the current date to the text file today.txt as a string."
   ]
  },
  {
   "cell_type": "code",
   "execution_count": 7,
   "metadata": {},
   "outputs": [],
   "source": [
    "from datetime import date\n",
    "today = date.today()\n",
    "file = open('today.txt', 'w')\n",
    "file.write(str(today))\n",
    "file.close()"
   ]
  },
  {
   "cell_type": "markdown",
   "metadata": {},
   "source": [
    "2. Read the text file today.txt into the string today_string"
   ]
  },
  {
   "cell_type": "code",
   "execution_count": 9,
   "metadata": {},
   "outputs": [
    {
     "name": "stdout",
     "output_type": "stream",
     "text": [
      "2021-06-27\n"
     ]
    }
   ],
   "source": [
    "file  = open('today.txt', 'r')\n",
    "today_string = file.read()\n",
    "print(today_string)"
   ]
  },
  {
   "cell_type": "markdown",
   "metadata": {},
   "source": [
    "3. Parse the date from today_string."
   ]
  },
  {
   "cell_type": "code",
   "execution_count": 10,
   "metadata": {},
   "outputs": [
    {
     "name": "stdout",
     "output_type": "stream",
     "text": [
      "27\n"
     ]
    }
   ],
   "source": [
    "year, month, date = today_string.split('-')\n",
    "print(date)"
   ]
  },
  {
   "cell_type": "markdown",
   "metadata": {},
   "source": [
    "4. List the files in your current directory"
   ]
  },
  {
   "cell_type": "code",
   "execution_count": 2,
   "metadata": {},
   "outputs": [
    {
     "name": "stdout",
     "output_type": "stream",
     "text": [
      "Files and directories in ' C:\\Users\\A3319 ' :\n",
      "['.conda', '.condarc', '.ipynb_checkpoints', '.ipython', '.jupyter', '.matplotlib', '.python_history', '.spyder-py3', '3D Objects', 'Anaconda3', 'AppData', 'Application Data', 'Assignment 1(Python Basic).ipynb', 'Assignment 10(Python Basic).ipynb', 'Assignment 11(Python Basic).ipynb', 'Assignment 12(Python Basic).ipynb', 'Assignment 13(Python Basic).ipynb', 'Assignment 14(Python Basic).ipynb', 'Assignment 15(Python Basic).ipynb', 'Assignment 16(Python Basic).ipynb', 'Assignment 17(Python Basic).ipynb', 'Assignment 18(Python Basic).ipynb', 'Assignment 19(Python Basic).ipynb', 'Assignment 2(Python Basic).ipynb', 'Assignment 20(Python Basic).ipynb', 'Assignment 21(Python Basic).ipynb', 'Assignment 3(Python Basic).ipynb', 'Assignment 4(Python Basic).ipynb', 'Assignment 5(Python Basic).ipynb', 'Assignment 6(Python Basic).ipynb', 'Assignment 7(Python Basic).ipynb', 'Assignment 8(Python Basic).ipynb', 'Assignment 9(Python Basic).ipynb', 'books.csv', 'books.db', 'books_blueprint', 'Car-Price-Prediction-master', 'chromedriver.exe', 'Contacts', 'Cookies', 'debug.log', 'Desktop', 'Documents', 'Downloads', 'Favorites', 'IntelGraphicsProfiles', 'lfs', 'Links', 'Local Settings', 'Master Data.ipynb', 'Microsoft', 'MicrosoftEdgeBackups', 'Miniconda3', 'ML and DL projects', 'Music', 'My Documents', 'NetHood', 'NTUSER.DAT', 'ntuser.dat.LOG1', 'ntuser.dat.LOG2', 'NTUSER.DAT{87e91126-a140-11eb-aa81-b903efcce01d}.TM.blf', 'NTUSER.DAT{87e91126-a140-11eb-aa81-b903efcce01d}.TMContainer00000000000000000001.regtrans-ms', 'NTUSER.DAT{87e91126-a140-11eb-aa81-b903efcce01d}.TMContainer00000000000000000002.regtrans-ms', 'ntuser.ini', 'OneDrive', 'OneDrive - Axtria', 'output.xlsx', 'output1.xlsx', 'presentation.ipynb', 'PrintHood', 'Recent', 'Saved Games', 'Searches', 'SendTo', 'Start Menu', 'Templates', 'tensorflow.ipynb', 'test.txt', 'today.txt', 'Untitled.ipynb', 'Untitled1.ipynb', 'Untitled2.ipynb', 'Untitled3.ipynb', 'Untitled4.ipynb', 'Untitled5.ipynb', 'Untitled6.ipynb', 'Untitled7.ipynb', 'unzipping.ipynb', 'Videos', 'zoo.py', '__pycache__']\n"
     ]
    }
   ],
   "source": [
    "import os\n",
    " \n",
    "# Get the list of all files and directories\n",
    "path = r\"C:\\Users\\A3319\"\n",
    "dir_list = os.listdir(path)\n",
    " \n",
    "print(\"Files and directories in '\", path, \"' :\")\n",
    " \n",
    "# prints all files\n",
    "print(dir_list)"
   ]
  },
  {
   "cell_type": "markdown",
   "metadata": {},
   "source": [
    "5. Create a list of all of the files in your parent directory (minimum five files should be available)."
   ]
  },
  {
   "cell_type": "code",
   "execution_count": 5,
   "metadata": {},
   "outputs": [
    {
     "name": "stdout",
     "output_type": "stream",
     "text": [
      "['Assignment 1(Python Basic).ipynb', 'Assignment 10(Python Basic).ipynb', 'Assignment 11(Python Basic).ipynb', 'Assignment 12(Python Basic).ipynb', 'Assignment 13(Python Basic).ipynb', 'Assignment 14(Python Basic).ipynb', 'Assignment 15(Python Basic).ipynb', 'Assignment 16(Python Basic).ipynb', 'Assignment 17(Python Basic).ipynb', 'Assignment 18(Python Basic).ipynb', 'Assignment 19(Python Basic).ipynb', 'Assignment 2(Python Basic).ipynb', 'Assignment 20(Python Basic).ipynb', 'Assignment 21(Python Basic).ipynb', 'Assignment 3(Python Basic).ipynb', 'Assignment 4(Python Basic).ipynb', 'Assignment 5(Python Basic).ipynb', 'Assignment 6(Python Basic).ipynb', 'Assignment 7(Python Basic).ipynb', 'Assignment 8(Python Basic).ipynb', 'Assignment 9(Python Basic).ipynb', 'Master Data.ipynb', 'presentation.ipynb', 'tensorflow.ipynb', 'Untitled.ipynb', 'Untitled1.ipynb', 'Untitled2.ipynb', 'Untitled3.ipynb', 'Untitled4.ipynb', 'Untitled5.ipynb', 'Untitled6.ipynb', 'Untitled7.ipynb', 'unzipping.ipynb']\n"
     ]
    }
   ],
   "source": [
    "lst = []\n",
    "for i in dir_list:\n",
    "    if i.endswith(\".ipynb\"):\n",
    "        lst.append(i)\n",
    "print(lst)"
   ]
  },
  {
   "cell_type": "markdown",
   "metadata": {},
   "source": [
    "6. Use multiprocessing to create three separate processes. Make each one wait a random number of\n",
    "seconds between one and five, print the current time, and then exit."
   ]
  },
  {
   "cell_type": "code",
   "execution_count": 10,
   "metadata": {},
   "outputs": [
    {
     "name": "stdout",
     "output_type": "stream",
     "text": [
      "this is process number 0\n",
      "process number 0 waited for 4 seconds\n",
      "14:54:17.664366\n",
      "this is process number 1\n",
      "process number 1 waited for 1 seconds\n",
      "14:54:18.673543\n",
      "this is process number 2\n",
      "process number 2 waited for 2 seconds\n",
      "14:54:20.675946\n"
     ]
    }
   ],
   "source": [
    "import multiprocessing\n",
    "from datetime import datetime\n",
    "import random\n",
    "import time\n",
    "def worker(process):\n",
    "    print(\"this is process number\", process)\n",
    "    wait_time = random.choice(range(1, 5))\n",
    "    time.sleep(wait_time)\n",
    "    print(\"process number\", process, \"waited for\", wait_time, \"seconds\")\n",
    "    print(datetime.now().time())\n",
    "    \n",
    "    \n",
    "\n",
    "for i in range(3):\n",
    "    multiprocessing.Process(target=worker(i))"
   ]
  },
  {
   "cell_type": "markdown",
   "metadata": {},
   "source": [
    "7. Create a date object of your day of birth."
   ]
  },
  {
   "cell_type": "code",
   "execution_count": 11,
   "metadata": {},
   "outputs": [
    {
     "name": "stdout",
     "output_type": "stream",
     "text": [
      "1995-08-24 00:00:00\n"
     ]
    }
   ],
   "source": [
    "import datetime\n",
    "x = datetime.datetime(1995, 8, 24)\n",
    "print(x)"
   ]
  },
  {
   "cell_type": "markdown",
   "metadata": {},
   "source": [
    "8. What day of the week was your day of birth?"
   ]
  },
  {
   "cell_type": "code",
   "execution_count": 14,
   "metadata": {},
   "outputs": [
    {
     "data": {
      "text/plain": [
       "'Thursday'"
      ]
     },
     "execution_count": 14,
     "metadata": {},
     "output_type": "execute_result"
    }
   ],
   "source": [
    "week_days=[\"Monday\",\"Tuesday\",\"Wednesday\",\"Thursday\",\"Friday\",\"Saturday\",\"Sunday\"]\n",
    "day = x.weekday()\n",
    "week_days[day]"
   ]
  },
  {
   "cell_type": "markdown",
   "metadata": {},
   "source": [
    "9. When will you be (or when were you) 10,000 days old?"
   ]
  },
  {
   "cell_type": "code",
   "execution_count": 15,
   "metadata": {},
   "outputs": [
    {
     "name": "stdout",
     "output_type": "stream",
     "text": [
      "enter your year of birth \n",
      "1995\n",
      "11995\n"
     ]
    }
   ],
   "source": [
    "date_of_year = int(input('enter your year of birth \\n'))\n",
    "age_10000_years = date_of_year + 10000\n",
    "print(age_10000_years)"
   ]
  }
 ],
 "metadata": {
  "kernelspec": {
   "display_name": "Python 3",
   "language": "python",
   "name": "python3"
  },
  "language_info": {
   "codemirror_mode": {
    "name": "ipython",
    "version": 3
   },
   "file_extension": ".py",
   "mimetype": "text/x-python",
   "name": "python",
   "nbconvert_exporter": "python",
   "pygments_lexer": "ipython3",
   "version": "3.8.3"
  }
 },
 "nbformat": 4,
 "nbformat_minor": 4
}
