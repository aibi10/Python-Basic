{
 "cells": [
  {
   "cell_type": "markdown",
   "metadata": {},
   "source": [
    "1. What is the result of the code, and explain?\n",
    "\n",
    "&gt;&gt;&gt; X = &#39;iNeuron&#39;\n",
    "\n",
    "&gt;&gt;&gt; \n",
    "def func():\n",
    "\n",
    "        print(X)\n",
    "\n",
    "&gt;&gt;&gt; func()"
   ]
  },
  {
   "cell_type": "raw",
   "metadata": {},
   "source": [
    "iNeuron\n",
    "\n",
    "\"\"\"\" X holds the value value iNeuron. func() is a function call where we print X\"\"\""
   ]
  },
  {
   "cell_type": "markdown",
   "metadata": {},
   "source": [
    "2. What is the result of the code, and explain?\n",
    "\n",
    "&gt;&gt;&gt; X = &#39;iNeuron&#39;\n",
    "\n",
    "\n",
    "&gt;&gt;&gt; def func():\n",
    "\n",
    "\n",
    "X = &#39;NI!&#39;\n",
    "\n",
    "&gt;&gt;&gt; func()\n",
    "\n",
    "&gt;&gt;&gt; print(X)"
   ]
  },
  {
   "cell_type": "raw",
   "metadata": {},
   "source": [
    "iNeuron\n",
    "\n",
    "\"\"\" after the function execution, the value of X = 'NI!' will be vanished and iNeuron will be printed\"\"\""
   ]
  },
  {
   "cell_type": "markdown",
   "metadata": {},
   "source": [
    "3. What does this code print, and why?\n",
    "\n",
    "&gt;&gt;&gt; X = &#39;iNeuron&#39;\n",
    "\n",
    "&gt;&gt;&gt; def func():\n",
    "    \n",
    "X = &#39;NI&#39;\n",
    "\n",
    "print(X)\n",
    "\n",
    "&gt;&gt;&gt; func()\n",
    "\n",
    "&gt;&gt;&gt; print(X)"
   ]
  },
  {
   "cell_type": "raw",
   "metadata": {},
   "source": [
    "NI\n",
    "iNeuron\n",
    "\n",
    "\"\"\" in the function call NI will be printed, once the execution of function gets over the value of X(NI) will be\n",
    "vanished and iNeuron will be printed\"\"\""
   ]
  },
  {
   "cell_type": "markdown",
   "metadata": {},
   "source": [
    "4. What output does this code produce? Why?\n",
    "\n",
    "&gt;&gt;&gt; X = &#39;iNeuron&#39;\n",
    "\n",
    "&gt;&gt;&gt; def func():\n",
    "    \n",
    "global X\n",
    "\n",
    "X = &#39;NI&#39;\n",
    "\n",
    "\n",
    "&gt;&gt;&gt; func()\n",
    "\n",
    "&gt;&gt;&gt; print(X)"
   ]
  },
  {
   "cell_type": "raw",
   "metadata": {},
   "source": [
    "NI\n",
    "\n",
    "\"\"\" During the function call keyword global will look for global variable X and change it. After the execution of \n",
    "function, the changed value of X(NI) will be printed\"\"\""
   ]
  },
  {
   "cell_type": "markdown",
   "metadata": {},
   "source": [
    "5. What about this code—what’s the output, and why?\n",
    "\n",
    "&gt;&gt;&gt; X = &#39;iNeuron&#39;\n",
    "\n",
    "&gt;&gt;&gt; def func():\n",
    "\n",
    "X = &#39;NI&#39;\n",
    "\n",
    "def nested():\n",
    "\n",
    "print(X)\n",
    "\n",
    "nested()\n",
    "\n",
    "&gt;&gt;&gt; func()\n",
    "\n",
    "&gt;&gt;&gt; X"
   ]
  },
  {
   "cell_type": "raw",
   "metadata": {},
   "source": [
    "NI\n",
    "iNeuron\n",
    "\n",
    "\"\"\" nested() will call the nested function which will look for it's value in current function.\n",
    "    Since X is not defined in nested(), it will search for its value in Enclosing.\n",
    "    It will print NI and after the function execution X will hold the value iNeuron.\n",
    "    Python follows LEGB rule \"\"\""
   ]
  },
  {
   "cell_type": "markdown",
   "metadata": {},
   "source": [
    "6. How about this code: what is its output in Python 3, and explain?\n",
    "\n",
    "&gt;&gt;&gt; def func():\n",
    "    \n",
    "X = &#39;NI&#39;\n",
    "\n",
    "def nested():\n",
    "    \n",
    "nonlocal X\n",
    "\n",
    "X = &#39;Spam&#39;\n",
    "\n",
    "nested()\n",
    "print(X)\n",
    "\n",
    "&gt;&gt;&gt; func()"
   ]
  },
  {
   "cell_type": "code",
   "execution_count": 11,
   "metadata": {},
   "outputs": [
    {
     "name": "stdout",
     "output_type": "stream",
     "text": [
      "Spam\n"
     ]
    }
   ],
   "source": [
    "Spam\n",
    "\n",
    "\"\"\" nonlocal keyword will reference to X in enclosing. Where it will change its value to Spam \"\"\""
   ]
  }
 ],
 "metadata": {
  "kernelspec": {
   "display_name": "Python 3",
   "language": "python",
   "name": "python3"
  },
  "language_info": {
   "codemirror_mode": {
    "name": "ipython",
    "version": 3
   },
   "file_extension": ".py",
   "mimetype": "text/x-python",
   "name": "python",
   "nbconvert_exporter": "python",
   "pygments_lexer": "ipython3",
   "version": "3.8.3"
  }
 },
 "nbformat": 4,
 "nbformat_minor": 4
}
