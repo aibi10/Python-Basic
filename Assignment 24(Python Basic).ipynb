{
 "cells": [
  {
   "cell_type": "markdown",
   "metadata": {},
   "source": [
    "1. What is the relationship between def statements and lambda expressions ?"
   ]
  },
  {
   "cell_type": "raw",
   "metadata": {},
   "source": [
    "Like def, the lambda creates a function to be called later. But it returns the function instead of assigning it to a name."
   ]
  },
  {
   "cell_type": "markdown",
   "metadata": {},
   "source": [
    "2. What is the benefit of lambda?"
   ]
  },
  {
   "cell_type": "raw",
   "metadata": {},
   "source": [
    "lambda is an expression, not a statement.\n",
    "Because of this, a lambda can appear in places a def is not allowed.\n",
    "For example, places like inside a list literal, or a function call's arguments.\n",
    "The lambdas can be used as a function shorthand that allows us to embed a function within the code."
   ]
  },
  {
   "cell_type": "markdown",
   "metadata": {},
   "source": [
    "3. Compare and contrast map, filter, and reduce."
   ]
  },
  {
   "cell_type": "raw",
   "metadata": {},
   "source": [
    "All three of these methods expect a function object as the first argument.\n",
    "\n",
    "The map() function iterates through all items in the given iterable and\n",
    "executes the function we passed as an argument on each of them. It returns the result of the function.\n",
    "\n",
    "\n",
    "As the name suggests, filter() forms a new list that contains only elements that satisfy a certain condition, \n",
    "i.e. the function we passed returns True.\n",
    "\n",
    "\n",
    "map() does not return a new list based on the function and iterable we've passed. Instead, it returns a single value.\n",
    "reduce() works by calling the function we passed for the first two items in the sequence. The result returned by the \n",
    "function is used in another call to function alongside with the next (third in this case), element."
   ]
  },
  {
   "cell_type": "markdown",
   "metadata": {},
   "source": [
    "4. What are function annotations, and how are they used?"
   ]
  },
  {
   "cell_type": "raw",
   "metadata": {},
   "source": [
    "Function annotations allow us to add arbitrary metadata to function parameters and return value.\n",
    "\n",
    "e.g:\n",
    "def func(x:'annotating x', y: 'annotating y', z: int) -> float: print(x + y + z)"
   ]
  },
  {
   "cell_type": "markdown",
   "metadata": {},
   "source": [
    "5. What are recursive functions, and how are they used?"
   ]
  },
  {
   "cell_type": "raw",
   "metadata": {},
   "source": [
    "A recursive function is a function that calls itself during its execution.\n",
    "It must have a terminating condition otherwise it would go in infinite loop calling iteself.\n",
    "\n",
    "e.g:\n",
    "    def func():\n",
    "        # terminating condition\n",
    "        # task to be performed\n",
    "        func()"
   ]
  },
  {
   "cell_type": "markdown",
   "metadata": {},
   "source": [
    "6. What are some general design guidelines for coding functions?"
   ]
  },
  {
   "cell_type": "raw",
   "metadata": {},
   "source": [
    "Limited use of globals.\n",
    "Standard headers for different modules.\n",
    "Naming conventions for local variables, global variables, constants and functions.\n",
    "Indentation.\n",
    "Error return values and exception handling conventions.\n",
    "Avoid using a coding style that is too difficult to understand.\n",
    "Avoid using an identifier for multiple purposes.\n",
    "Code should be well documented\n",
    "Length of functions should not be very large"
   ]
  },
  {
   "cell_type": "markdown",
   "metadata": {},
   "source": [
    "7. Name three or more ways that functions can communicate results to a caller."
   ]
  },
  {
   "cell_type": "raw",
   "metadata": {},
   "source": [
    "Call By Value.\n",
    "Call By Reference.\n",
    "Call By Both."
   ]
  }
 ],
 "metadata": {
  "kernelspec": {
   "display_name": "Python 3",
   "language": "python",
   "name": "python3"
  },
  "language_info": {
   "codemirror_mode": {
    "name": "ipython",
    "version": 3
   },
   "file_extension": ".py",
   "mimetype": "text/x-python",
   "name": "python",
   "nbconvert_exporter": "python",
   "pygments_lexer": "ipython3",
   "version": "3.8.3"
  }
 },
 "nbformat": 4,
 "nbformat_minor": 4
}
