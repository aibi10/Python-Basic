{
 "cells": [
  {
   "cell_type": "markdown",
   "metadata": {},
   "source": [
    "1) . What is the difference between enclosing a list comprehension in square brackets and\n",
    "parentheses?"
   ]
  },
  {
   "cell_type": "raw",
   "metadata": {},
   "source": [
    "List comprehension is enclosed in square brackets [] while the Generator expression is enclosed in plain parentheses ()."
   ]
  },
  {
   "cell_type": "markdown",
   "metadata": {},
   "source": [
    "2) What is the relationship between generators and iterators?"
   ]
  },
  {
   "cell_type": "raw",
   "metadata": {},
   "source": [
    "iterator is a more general concept: any object whose\n",
    "class has a __next__ method and an __iter__ method that does return self.\n",
    "\n",
    "Every generator is an iterator, but not vice versa.\n",
    "A generator is built by calling a function that has one or more yield expressions \n",
    " and is an object that meets the previous paragraph's \n",
    "definition of an iterator.\n",
    "\n",
    "You may want to use a custom iterator, rather than a generator, when you need a class with somewhat \n",
    "complex state-maintaining behavior, or want to expose other methods besides __next__ (and __iter__ and __init__).\n",
    "Most often, a generator (sometimes, for sufficiently simple needs, a generator expression) is sufficient, \n",
    "and it's simpler to code because state maintenance (within reasonable limits) is basically \"done for you\" \n",
    "by the frame getting suspended and resumed."
   ]
  },
  {
   "cell_type": "markdown",
   "metadata": {},
   "source": [
    "3) What are the signs that a function is a generator function?"
   ]
  },
  {
   "cell_type": "raw",
   "metadata": {},
   "source": [
    "If a function contains at least one yield statement (it may contain other yield or return statements), \n",
    "it becomes a generator function."
   ]
  },
  {
   "cell_type": "markdown",
   "metadata": {},
   "source": [
    "4) What is the purpose of a yield statement?"
   ]
  },
  {
   "cell_type": "raw",
   "metadata": {},
   "source": [
    "The yield statement suspends function's execution and sends a value back to the caller,\n",
    "but retains enough state to enable function to resume where it is left off.\n",
    "When resumed, the function continues execution immediately after the last yield run."
   ]
  },
  {
   "cell_type": "raw",
   "metadata": {},
   "source": [
    "5) What is the relationship between map calls and list comprehensions? Make a comparison and\n",
    "contrast between the two."
   ]
  },
  {
   "cell_type": "raw",
   "metadata": {},
   "source": [
    "list comprehension can be used as a substitute to map() function.\n",
    "Both can be used to iterate over a iterable and return the result according to our need.\n",
    "\n",
    "List comprehension allows filtering. In map, we have no such facility. For example, \n",
    "to print all even numbers in range of 100, \n",
    "we can write [n for n in range(100) if n%2 == 0]. There is no alternate for it in map.\n",
    "\n",
    "List comprehension are used when a list of results is required as map only returns a map object \n",
    "and does not return any list.\n",
    "\n",
    "List comprehension is faster than map when we need to evaluate expressions that are too long or complicated to express.\n",
    "\n",
    "Map is faster in case of calling an already defined function (as no lambda is required).\n",
    "\n"
   ]
  }
 ],
 "metadata": {
  "kernelspec": {
   "display_name": "Python 3",
   "language": "python",
   "name": "python3"
  },
  "language_info": {
   "codemirror_mode": {
    "name": "ipython",
    "version": 3
   },
   "file_extension": ".py",
   "mimetype": "text/x-python",
   "name": "python",
   "nbconvert_exporter": "python",
   "pygments_lexer": "ipython3",
   "version": "3.8.3"
  }
 },
 "nbformat": 4,
 "nbformat_minor": 4
}
